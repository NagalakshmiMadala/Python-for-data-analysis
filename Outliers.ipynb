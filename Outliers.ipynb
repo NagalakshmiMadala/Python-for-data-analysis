{
 "cells": [
  {
   "cell_type": "code",
   "execution_count": null,
   "metadata": {},
   "outputs": [],
   "source": [
    "df = pd.read_csv(\".....csv\")"
   ]
  },
  {
   "cell_type": "code",
   "execution_count": null,
   "metadata": {},
   "outputs": [],
   "source": [
    "missing_df =df.isnull().sum(axis=0).reset_index()\n",
    "missing_df.columns = ['Column Name', 'Missing Values Count']\n",
    "missing_df['Filling Factor (%)']=(df.shape[0]-missing_df['Missing Values Count'])/df.shape[0]*100\n",
    "missing_df.sort_values('Filling Factor (%)').reset_index(drop = True)\n",
    "missing_df.to_csv(\"missing_df\")"
   ]
  },
  {
   "cell_type": "code",
   "execution_count": null,
   "metadata": {},
   "outputs": [],
   "source": [
    "\n",
    "starttime=time.time()\n",
    "\n",
    "from sklearn.impute import KNNImputer\n",
    "imp = KNNImputer(n_neighbors=5)\n",
    "\n",
    "X=imp.fit_transform(X)\n",
    "\n",
    "\n",
    "print(\"----timetaken is ..... \", (time.time()-starttime))"
   ]
  },
  {
   "cell_type": "code",
   "execution_count": null,
   "metadata": {},
   "outputs": [],
   "source": [
    "import seaborn as sns\n",
    "plt.figure(figsize= (30,20))  \n",
    "pos = 1 \n",
    "for feature in df.columns:   \n",
    "    plt.subplot(4, 3, pos)   \n",
    "    if feature in df.columns:   \n",
    "         sns.distplot(df[feature], kde= True )\n",
    "    pos += 1 "
   ]
  },
  {
   "cell_type": "code",
   "execution_count": null,
   "metadata": {},
   "outputs": [],
   "source": [
    "df.plot(kind= 'box' , subplots=True,layout=(3,3), sharex=False, sharey=False, figsize=(15,10))"
   ]
  },
  {
   "cell_type": "code",
   "execution_count": null,
   "metadata": {},
   "outputs": [],
   "source": [
    "#outliers by gausian approch and replacing them by mean\n",
    "\n",
    "for col_name in df.columns:\n",
    "    mean = df[col_name].mean()\n",
    "    std = df[col_name].std()\n",
    "    \n",
    "    low = mean + 3* std\n",
    "    high = mean - 3* std\n",
    "    \n",
    "    print('outliers of {} (Gaussian approach) are : {}'.format(column,df[(df[col_name] < low) | (df[col_name] > high)].shape[0]/np.float(df.shape[0])))\n",
    "    \n",
    "    df.loc[(df[col_name] < low) | (df[col_name] > high), col_name] = df[col_name].mean()"
   ]
  },
  {
   "cell_type": "code",
   "execution_count": null,
   "metadata": {},
   "outputs": [],
   "source": [
    "#Outliers by IQR and Replacing them by median\n",
    "for col_name in df.columns[:-1]:\n",
    "    q1 = df[col_name].quantile(0.25)\n",
    "    q3 = df[col_name].quantile(0.75)\n",
    "    iqr = q3 - q1\n",
    "    \n",
    "    low = q1-1.5*iqr\n",
    "    high = q3+1.5*iqr\n",
    "    \n",
    "    df.loc[(df[col_name] < low) | (df[col_name] > high), col_name] = df[col_name].median()\n",
    "\n"
   ]
  },
  {
   "cell_type": "code",
   "execution_count": null,
   "metadata": {},
   "outputs": [],
   "source": [
    "#Outliers by IQR and Replacing them by whiskers\n",
    "\n",
    "def outliers_handling(cols):\n",
    "    cols = pd.DataFrame(cols)\n",
    "    Q1 = cols.quantile(0.25)\n",
    "    Q3 = cols.quantile(0.75)\n",
    "    IQR = Q3 - Q1\n",
    "    # print(IQR)\n",
    "\n",
    "    # Replace every outlier on the lower side by the lower whisker\n",
    "    for i, j in zip(np.where(cols < Q1 - 1.5 * IQR)[0], np.where(cols < Q1 - 1.5 * IQR)[1]): \n",
    "\n",
    "        whisker  = Q1 - 1.5 * IQR\n",
    "        cols.iloc[i,j] = whisker[j]\n",
    "\n",
    "\n",
    "    #Replace every outlier on the upper side by the upper whisker    \n",
    "    for i, j in zip(np.where(cols > Q3 + 1.5 * IQR)[0], np.where(cols > Q3 + 1.5 * IQR)[1]):\n",
    "\n",
    "        whisker  = Q3 + 1.5 * IQR\n",
    "        cols.iloc[i,j] = whisker[j]\n",
    "        \n",
    "    return cols\n",
    "\n",
    "for i in df.columns:\n",
    "    df[i]=outliers_handling(df[i])"
   ]
  }
 ],
 "metadata": {
  "kernelspec": {
   "display_name": "Python 3",
   "language": "python",
   "name": "python3"
  },
  "language_info": {
   "codemirror_mode": {
    "name": "ipython",
    "version": 3
   },
   "file_extension": ".py",
   "mimetype": "text/x-python",
   "name": "python",
   "nbconvert_exporter": "python",
   "pygments_lexer": "ipython3",
   "version": "3.6.10"
  }
 },
 "nbformat": 4,
 "nbformat_minor": 4
}
